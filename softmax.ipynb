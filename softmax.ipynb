{
 "cells": [
  {
   "cell_type": "code",
   "execution_count": 1,
   "id": "57227770-86ed-4449-b239-9fa59bf83239",
   "metadata": {},
   "outputs": [],
   "source": [
    "import torch\n",
    "import torch.nn as nn\n",
    "import torch.optim as optim\n",
    "from torchvision import datasets, transforms\n",
    "from torch.utils.data import DataLoader\n",
    "import matplotlib.pyplot as plt\n",
    "import numpy as np"
   ]
  },
  {
   "cell_type": "code",
   "execution_count": 2,
   "id": "ca74cd6c-5877-410f-8051-ba45930d086c",
   "metadata": {},
   "outputs": [
    {
     "data": {
      "text/plain": [
       "<torch._C.Generator at 0x1121c30d0>"
      ]
     },
     "execution_count": 2,
     "metadata": {},
     "output_type": "execute_result"
    }
   ],
   "source": [
    "# Set random seed for reproducibility\n",
    "torch.manual_seed(42)"
   ]
  },
  {
   "cell_type": "code",
   "execution_count": 3,
   "id": "e008d818-7866-4bfb-9b74-122985afc8cf",
   "metadata": {},
   "outputs": [],
   "source": [
    "# Define transformations\n",
    "transform = transforms.Compose([\n",
    "    transforms.ToTensor(),\n",
    "    transforms.Normalize((0.1307,), (0.3081,))\n",
    "])"
   ]
  },
  {
   "cell_type": "code",
   "execution_count": 4,
   "id": "2489f8dc-b753-4563-a431-fe69d88965ac",
   "metadata": {},
   "outputs": [],
   "source": [
    "# Load MNIST dataset\n",
    "train_dataset = datasets.MNIST(root='./data', train=True, download=True, transform=transform)\n",
    "test_dataset = datasets.MNIST(root='./data', train=False, download=True, transform=transform)"
   ]
  },
  {
   "cell_type": "code",
   "execution_count": 5,
   "id": "3deeab67-b010-49c4-a39c-e1156de9a50d",
   "metadata": {},
   "outputs": [
    {
     "name": "stdout",
     "output_type": "stream",
     "text": [
      "t10k-images-idx3-ubyte     train-images-idx3-ubyte\n",
      "t10k-images-idx3-ubyte.gz  train-images-idx3-ubyte.gz\n",
      "t10k-labels-idx1-ubyte     train-labels-idx1-ubyte\n",
      "t10k-labels-idx1-ubyte.gz  train-labels-idx1-ubyte.gz\n"
     ]
    }
   ],
   "source": [
    "!ls data/MNIST/raw"
   ]
  },
  {
   "cell_type": "code",
   "execution_count": 6,
   "id": "d8d6d8f7-23de-4f24-81c4-0213bf88c767",
   "metadata": {},
   "outputs": [],
   "source": [
    "# Split train dataset into train and validation\n",
    "train_size = int(0.8 * len(train_dataset))\n",
    "val_size = len(train_dataset) - train_size\n",
    "train_dataset, val_dataset = torch.utils.data.random_split(train_dataset, [train_size, val_size])"
   ]
  },
  {
   "cell_type": "code",
   "execution_count": 8,
   "id": "85437a01-f5b8-4233-bef9-63102dc87296",
   "metadata": {},
   "outputs": [],
   "source": [
    "img, label = train_dataset[0]"
   ]
  },
  {
   "cell_type": "code",
   "execution_count": 10,
   "id": "fcd7b4ca-98b1-485e-adb9-26c792afd04d",
   "metadata": {},
   "outputs": [
    {
     "data": {
      "text/plain": [
       "<matplotlib.image.AxesImage at 0x15a1a1d50>"
      ]
     },
     "execution_count": 10,
     "metadata": {},
     "output_type": "execute_result"
    },
    {
     "data": {
      "image/png": "[encoded data removed]",
      "text/plain": [
       "<Figure size 640x480 with 1 Axes>"
      ]
     },
     "metadata": {},
     "output_type": "display_data"
    }
   ],
   "source": [
    "plt.imshow(img.squeeze())"
   ]
  },
  {
   "cell_type": "code",
   "execution_count": 11,
   "id": "58418d47-acdd-4eaa-affc-2650878eeb51",
   "metadata": {},
   "outputs": [
    {
     "data": {
      "text/plain": [
       "6"
      ]
     },
     "execution_count": 11,
     "metadata": {},
     "output_type": "execute_result"
    }
   ],
   "source": [
    "label"
   ]
  },
  {
   "cell_type": "markdown",
   "id": "c3b7ba2c-3827-423d-8e69-2b3197e554a9",
   "metadata": {},
   "source": [
    "Internally, this six is encoded in terms of 0's and 1's as a 10 item array, with the sixth slot a 1 and the rest 0."
   ]
  },
  {
   "cell_type": "code",
   "execution_count": 12,
   "id": "93687613-5cab-4962-8620-dc4fda6fcd89",
   "metadata": {},
   "outputs": [
    {
     "data": {
      "text/plain": [
       "array([0, 0, 0, 0, 0, 1, 0, 0, 0, 0])"
      ]
     },
     "execution_count": 12,
     "metadata": {},
     "output_type": "execute_result"
    }
   ],
   "source": [
    "label_array = np.zeros(10, dtype='int')\n",
    "label_array[5] = 1\n",
    "label_array"
   ]
  },
  {
   "cell_type": "markdown",
   "id": "81f8444e-d89a-4625-a14e-095d41930a82",
   "metadata": {},
   "source": [
    "The cross-entropy loss (negative log-likelihood) is defined as:\n",
    "\n",
    "$$\\ell = \\sum_n \\ell_n = \\sum_n - y_n \\cdot log p_n = \\sum_n -y_n \\cdot log \\left (\\frac{e^{x_{n,c} \\cdot y_n}}{\\sum_c e^{x_{n,c}}} \\right)$$\n",
    "\n",
    "where log $p_n$ is a vector of 10 log probabilities, one for each digit, and $y_n$ is the vector with 0's and 1's corresponding to the current digit (here, `label_array` above). So you will see in this dot product (if u paid attention to the 3 blue 1 brown videos) will pick out the 6th probability for us, so you will get for the nth data item the loss:\n",
    "$$\\ell_n = - log\\, p_{n,5} = - log (\\frac{e^{x_{n,5}}}{\\sum_ce^{x_{n,c}}} )$$,\n",
    "where $x_{n, 5}$ is the fifth output of that layer of the neural network that has 10 outputs...the last layer.\n",
    "\n",
    "So for example if the last layer x for item n was given as:"
   ]
  },
  {
   "cell_type": "code",
   "execution_count": 24,
   "id": "c794a702-9ef6-400b-a6ae-d90aa2ad9291",
   "metadata": {},
   "outputs": [
    {
     "data": {
      "text/plain": [
       "tensor([ 0.2133,  1.8563, -0.3545, -0.5105, -0.7530,  0.6498, -0.0851, -1.2621,\n",
       "         1.5794, -1.2483])"
      ]
     },
     "execution_count": 24,
     "metadata": {},
     "output_type": "execute_result"
    }
   ],
   "source": [
    "xn = torch.normal(0, 1, size = (10,))\n",
    "xn"
   ]
  },
  {
   "cell_type": "code",
   "execution_count": 25,
   "id": "28ee4379-9037-4851-b7dc-23caebb742d2",
   "metadata": {},
   "outputs": [
    {
     "name": "stderr",
     "output_type": "stream",
     "text": [
      "/Users/rahul/Courses/Hult/ml/nn_pytorch/.pixi/envs/default/lib/python3.11/site-packages/torch/nn/modules/module.py:1511: UserWarning: Implicit dimension choice for softmax has been deprecated. Change the call to include dim=X as an argument.\n",
      "  return self._call_impl(*args, **kwargs)\n"
     ]
    },
    {
     "data": {
      "text/plain": [
       "tensor([0.0701, 0.3623, 0.0397, 0.0340, 0.0267, 0.1084, 0.0520, 0.0160, 0.2747,\n",
       "        0.0162])"
      ]
     },
     "execution_count": 25,
     "metadata": {},
     "output_type": "execute_result"
    }
   ],
   "source": [
    "pn = nn.Softmax()\n",
    "pn(xn)"
   ]
  },
  {
   "cell_type": "markdown",
   "id": "2fd8bbea-8c3f-45e5-8da3-01a2cc8523b2",
   "metadata": {},
   "source": [
    "Notice these sum to 1 as probabilities must!"
   ]
  },
  {
   "cell_type": "code",
   "execution_count": 28,
   "id": "c3a86dc9-17ea-48e1-b634-672574172d1b",
   "metadata": {},
   "outputs": [
    {
     "data": {
      "text/plain": [
       "tensor(1.0000)"
      ]
     },
     "execution_count": 28,
     "metadata": {},
     "output_type": "execute_result"
    }
   ],
   "source": [
    "torch.sum(pn(xn))"
   ]
  },
  {
   "cell_type": "markdown",
   "id": "73c356b4-d0f8-4bdc-8fde-b85b2073cfaf",
   "metadata": {},
   "source": [
    "Now you can dot product:"
   ]
  },
  {
   "cell_type": "code",
   "execution_count": 30,
   "id": "48a2014e-b887-4ee9-88a1-6e59a9ffbf6e",
   "metadata": {},
   "outputs": [
    {
     "name": "stderr",
     "output_type": "stream",
     "text": [
      "/Users/rahul/Courses/Hult/ml/nn_pytorch/.pixi/envs/default/lib/python3.11/site-packages/torch/nn/modules/module.py:1511: UserWarning: Implicit dimension choice for softmax has been deprecated. Change the call to include dim=X as an argument.\n",
      "  return self._call_impl(*args, **kwargs)\n"
     ]
    },
    {
     "data": {
      "text/plain": [
       "2.2219114303588867"
      ]
     },
     "execution_count": 30,
     "metadata": {},
     "output_type": "execute_result"
    }
   ],
   "source": [
    "- label_array @ np.log( pn(xn).numpy() )"
   ]
  },
  {
   "cell_type": "markdown",
   "id": "a9682e15-dafe-47c8-b3ee-b4c4793eed89",
   "metadata": {},
   "source": [
    "which takes the 6th element in the softmax: 0.1084, logs it to the base e and minuses it"
   ]
  },
  {
   "cell_type": "code",
   "execution_count": 31,
   "id": "de3fc85c-9d34-4498-8d90-39394fa3b54b",
   "metadata": {},
   "outputs": [
    {
     "data": {
      "text/plain": [
       "2.2219271899765913"
      ]
     },
     "execution_count": 31,
     "metadata": {},
     "output_type": "execute_result"
    }
   ],
   "source": [
    "import math\n",
    "- math.log(0.1084)"
   ]
  }
 ],
 "metadata": {
  "kernelspec": {
   "display_name": "Python 3 (ipykernel)",
   "language": "python",
   "name": "python3"
  },
  "language_info": {
   "codemirror_mode": {
    "name": "ipython",
    "version": 3
   },
   "file_extension": ".py",
   "mimetype": "text/x-python",
   "name": "python",
   "nbconvert_exporter": "python",
   "pygments_lexer": "ipython3",
   "version": "3.11.10"
  }
 },
 "nbformat": 4,
 "nbformat_minor": 5
}
